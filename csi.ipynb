{
 "cells": [
  {
   "cell_type": "code",
   "execution_count": 1,
   "metadata": {},
   "outputs": [],
   "source": [
    "\n",
    "# Data cleaning\n",
    "\n",
    "import pandas as pd \n",
    "from numpy import random \n",
    "\n",
    "# read in excel file \n",
    "df = pd.read_excel(r'csi_data.xlsx')\n",
    "\n",
    "mapping = {\n",
    "    'Be creative and expressive': 1, \n",
    "    'Become immersed in the activity': 2, \n",
    "    'Enjoy using the system or tool': 3, \n",
    "    'Explore many different ideas, outcomes, or possibilities': 4, \n",
    "    'Produce results that are worth the effort I put in': 5, \n",
    "    'Work with other people': 6\n",
    "}\n",
    "\n",
    "df.applymap(lambda s: mapping.get(s) if s in mapping else s)\n",
    "\n",
    "enjoyment = df.iloc[:, 18:20]\n",
    "exploration = df.iloc[:, 20:22]\n",
    "expressiveness = df.iloc[:, 22:24]\n",
    "immersion = df.iloc[:, 24:26]\n",
    "effort = df.iloc[:, 26:28]"
   ]
  },
  {
   "cell_type": "code",
   "execution_count": 2,
   "metadata": {},
   "outputs": [
    {
     "name": "stdout",
     "output_type": "stream",
     "text": [
      "[[3, 1, 0, 3, 2], [3, 2, 1, 3, 0], [3, 1, 0, 1, 4], [3, 0, 1, 3, 2], [4, 2, 0, 2, 1], [3, 0, 1, 3, 2], [3, 1, 0, 3, 2], [2, 0, 1, 3, 3], [3, 0, 1, 3, 2], [2, 2, 2, 3, 0], [4, 2, 0, 2, 1], [3, 2, 3, 1, 0], [3, 1, 2, 3, 0], [3, 2, 0, 3, 1], [2, 3, 0, 3, 1], [1, 0, 2, 3, 3], [3, 2, 1, 3, 0], [4, 2, 2, 1, 0], [2, 0, 1, 2, 4], [4, 2, 0, 2, 1], [2, 3, 0, 3, 1], [3, 1, 0, 3, 2], [2, 2, 0, 3, 2], [3, 1, 2, 3, 0]]\n"
     ]
    }
   ],
   "source": [
    "\n",
    "# Calculating the creativity support index (CSi)\n",
    "\n",
    "count_data = []\n",
    "for i in range(len(df)): \n",
    "    counts = [0, 0, 0, 0, 0]\n",
    "    for j in range(9): \n",
    "        for factor in range(5): \n",
    "            if (df.iloc[i][28 + j] == factor + 1): \n",
    "                counts[factor] += 1\n",
    "    count_data.append(counts)\n",
    "\n",
    "print(count_data)\n",
    "factor_count = pd.DataFrame(count_data, columns=['enjoyment_count', 'exploration_count', 'expressiveness_count', 'immersion_count', 'effort_count']); \n",
    "df = pd.concat([df, factor_count], axis=1); \n",
    "\n",
    "csi_list = []\n",
    "csi_list_grouped = [[], [], []] \n",
    "for i in range(len(df)): \n",
    "    csi = 0 \n",
    "    for j in range(5): \n",
    "        csi += (df.iloc[i][18 + j] + df.iloc[i][18 + j + 1]) * df.iloc[i][38 + j]\n",
    "    csi = csi / 3\n",
    "    csi_list.append(csi)\n",
    "    csi_list_grouped[df.iloc[i]['group'] - 1].append(csi)\n",
    "\n",
    "df['csi'] = csi_list\n",
    "\n",
    "df.to_excel('restult.xlsx')\n"
   ]
  },
  {
   "cell_type": "code",
   "execution_count": 18,
   "metadata": {},
   "outputs": [
    {
     "name": "stdout",
     "output_type": "stream",
     "text": [
      "[32.625, 29.541666666666664, 38.5]\n",
      "[10.860782532682544, 11.562556306169208, 10.109126789413834]\n"
     ]
    },
    {
     "data": {
      "text/plain": [
       "[Text(0.5, 0, 'group'), Text(0, 0.5, 'CSI score')]"
      ]
     },
     "execution_count": 18,
     "metadata": {},
     "output_type": "execute_result"
    },
    {
     "data": {
      "image/png": "[encoded data removed]",
      "text/plain": [
       "<Figure size 640x480 with 1 Axes>"
      ]
     },
     "metadata": {},
     "output_type": "display_data"
    }
   ],
   "source": [
    "# visualising the means of the groups\n",
    "\n",
    "import matplotlib.pyplot as plt\n",
    "import matplotlib as mpl\n",
    "import seaborn as sns\n",
    "import numpy as np\n",
    "\n",
    "means = []\n",
    "stds = [] \n",
    "for idx in range(len(csi_list_grouped)):\n",
    "    means.append(np.mean(csi_list_grouped[idx]))\n",
    "    stds.append(np.std(csi_list_grouped[idx]))\n",
    "\n",
    "print(means)\n",
    "print(stds)\n",
    "\n",
    "# sns.rc('text', color='#fcfcf8')\n",
    "# sns.rc('axes', labelcolor='#fcfcf8')\n",
    "# sns.rc('xtick', color='#fcfcf8')\n",
    "# sns.rc('ytick', color='#fcfcf8')\n",
    "\n",
    "\n",
    "sns.set(rc={'axes.facecolor':'#fcfcf8', 'figure.facecolor':'#fcfcf8'})\n",
    "sns.set_style(\"whitegrid\")\n",
    "colors = ['#dea25e', '#bc6c29', '#616d38']\n",
    "sns.set_palette( colors )\n",
    "ax = sns.boxplot(x='group', y='csi', data=df)\n",
    "ax.set(xlabel='group', ylabel='CSI score')\n"
   ]
  },
  {
   "cell_type": "code",
   "execution_count": 4,
   "metadata": {},
   "outputs": [
    {
     "name": "stdout",
     "output_type": "stream",
     "text": [
      "1.229243329702572 0.312717857227321\n",
      "[[18.333333333333332, 27.666666666666668, 33.666666666666664, 44.333333333333336, 16.0, 35.333333333333336, 49.333333333333336, 36.333333333333336], [18.666666666666668, 34.333333333333336, 20.333333333333332, 31.333333333333332, 51.666666666666664, 37.666666666666664, 12.666666666666666, 29.666666666666668], [45.666666666666664, 45.0, 18.666666666666668, 34.666666666666664, 49.333333333333336, 27.0, 46.0, 41.666666666666664]]\n"
     ]
    },
    {
     "data": {
      "text/html": [
       "<div>\n",
       "<style scoped>\n",
       "    .dataframe tbody tr th:only-of-type {\n",
       "        vertical-align: middle;\n",
       "    }\n",
       "\n",
       "    .dataframe tbody tr th {\n",
       "        vertical-align: top;\n",
       "    }\n",
       "\n",
       "    .dataframe thead th {\n",
       "        text-align: right;\n",
       "    }\n",
       "</style>\n",
       "<table border=\"1\" class=\"dataframe\">\n",
       "  <thead>\n",
       "    <tr style=\"text-align: right;\">\n",
       "      <th></th>\n",
       "      <th>sum_sq</th>\n",
       "      <th>df</th>\n",
       "      <th>F</th>\n",
       "      <th>PR(&gt;F)</th>\n",
       "    </tr>\n",
       "  </thead>\n",
       "  <tbody>\n",
       "    <tr>\n",
       "      <th>C(group)</th>\n",
       "      <td>331.398148</td>\n",
       "      <td>2.0</td>\n",
       "      <td>1.229243</td>\n",
       "      <td>0.312718</td>\n",
       "    </tr>\n",
       "    <tr>\n",
       "      <th>Residual</th>\n",
       "      <td>2830.750000</td>\n",
       "      <td>21.0</td>\n",
       "      <td>NaN</td>\n",
       "      <td>NaN</td>\n",
       "    </tr>\n",
       "  </tbody>\n",
       "</table>\n",
       "</div>"
      ],
      "text/plain": [
       "               sum_sq    df         F    PR(>F)\n",
       "C(group)   331.398148   2.0  1.229243  0.312718\n",
       "Residual  2830.750000  21.0       NaN       NaN"
      ]
     },
     "execution_count": 4,
     "metadata": {},
     "output_type": "execute_result"
    }
   ],
   "source": [
    "import scipy.stats as stats\n",
    "\n",
    "fvalue, pvalue = stats.f_oneway(csi_list_grouped[0], csi_list_grouped[1], csi_list_grouped[2])\n",
    "print(fvalue, pvalue)\n",
    "print(csi_list_grouped)\n",
    "\n",
    "import statsmodels.api as sm\n",
    "from statsmodels.formula.api import ols\n",
    "\n",
    "model = ols('csi ~ C(group)', data=df).fit()\n",
    "aov_table = sm.stats.anova_lm(model, typ=2)\n",
    "aov_table\n",
    "\n",
    "# conclusion, no significant differences between the CSI "
   ]
  }
 ],
 "metadata": {
  "kernelspec": {
   "display_name": "Python 3.10.6 ('cdr_csi')",
   "language": "python",
   "name": "python3"
  },
  "language_info": {
   "codemirror_mode": {
    "name": "ipython",
    "version": 3
   },
   "file_extension": ".py",
   "mimetype": "text/x-python",
   "name": "python",
   "nbconvert_exporter": "python",
   "pygments_lexer": "ipython3",
   "version": "3.10.6"
  },
  "orig_nbformat": 4,
  "vscode": {
   "interpreter": {
    "hash": "ca276e9469a38bab84146e5df7ec303be1a10d955ac474c44b9f06a7850da048"
   }
  }
 },
 "nbformat": 4,
 "nbformat_minor": 2
}
